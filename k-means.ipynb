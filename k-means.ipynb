{
 "cells": [
  {
   "cell_type": "code",
   "execution_count": 96,
   "id": "e0893646",
   "metadata": {},
   "outputs": [
    {
     "data": {
      "text/plain": [
       "array([[ 26.97904841,  38.42510047],\n",
       "       [ 69.49144971, -10.10803707]])"
      ]
     },
     "execution_count": 96,
     "metadata": {},
     "output_type": "execute_result"
    }
   ],
   "source": [
    "from sklearn.cluster import KMeans\n",
    "import numpy as np\n",
    "from sklearn.metrics import silhouette_score\n",
    "import matplotlib.pyplot as plt\n",
    "import pandas as pd\n",
    "\n",
    "X = pd.read_csv('xclara.csv')\n",
    "\n",
    "# print(xclara.values.tolist())\n",
    "\n",
    "# X = np.array([[1, 2], [1, 4], [1, 0], [10, 2], [10, 4], [10, 0], [1, 2],\n",
    "#               [1, 4], [1, 0], [10, 2], [10, 4], [10, 0], [5,6], [6,4]])\n",
    "\n",
    "kmeans = KMeans(n_clusters=2, random_state=0, n_init=15).fit(xclara.values.tolist())\n",
    "\n",
    "kmeans.labels_\n",
    "\n",
    "kmeans.predict([[0, 0], [12, 3]])\n",
    "\n",
    "kmeans.cluster_centers_"
   ]
  },
  {
   "cell_type": "code",
   "execution_count": 2,
   "id": "ba745415",
   "metadata": {},
   "outputs": [
    {
     "name": "stderr",
     "output_type": "stream",
     "text": [
      "C:\\Users\\ASUS\\miniconda3\\envs\\skinEnv\\lib\\site-packages\\ipykernel_launcher.py:26: ConvergenceWarning: Number of distinct clusters (8) found smaller than n_clusters (9). Possibly due to duplicate points in X.\n"
     ]
    },
    {
     "data": {
      "text/plain": [
       "[<matplotlib.lines.Line2D at 0x1df22df06d8>]"
      ]
     },
     "execution_count": 2,
     "metadata": {},
     "output_type": "execute_result"
    },
    {
     "data": {
      "image/png": "[encoded data removed]",
      "text/plain": [
       "<Figure size 432x288 with 1 Axes>"
      ]
     },
     "metadata": {
      "needs_background": "light"
     },
     "output_type": "display_data"
    }
   ],
   "source": [
    "from sklearn.cluster import KMeans\n",
    "import numpy as np\n",
    "from sklearn.metrics import silhouette_score\n",
    "import matplotlib.pyplot as plt\n",
    "import pandas as pd\n",
    "\n",
    "X = np.array([[1, 2], [1, 4], [1, 0], [10, 2], [10, 4], [10, 0], [1, 2],\n",
    "              [1, 4], [1, 0], [10, 2], [10, 4], [10, 0], [5,6], [6,4]])\n",
    "\n",
    "kmeans = KMeans(n_clusters=2, random_state=0, n_init=15)\n",
    "\n",
    "kmeans_fit = kmeans.fit(X)\n",
    "\n",
    "kmeans.labels_\n",
    "\n",
    "kmeans.predict([[0, 0], [12, 3]])\n",
    "\n",
    "kmeans.cluster_centers_\n",
    "\n",
    "# silhouette_score 越高越好\n",
    "silhouette_avg = []\n",
    "\n",
    "test_range = range(2, 10)\n",
    "\n",
    "for i in test_range:\n",
    "    kmeans_fit = KMeans(n_clusters = i, n_init = 10).fit(X)\n",
    "    silhouette_avg.append(silhouette_score(X, kmeans_fit.labels_))\n",
    "    \n",
    "plt.plot(test_range, silhouette_avg)"
   ]
  },
  {
   "cell_type": "code",
   "execution_count": 105,
   "id": "3ea4f9d0",
   "metadata": {},
   "outputs": [
    {
     "data": {
      "text/plain": [
       "[0.542435069970526,\n",
       " 0.6945587736089913,\n",
       " 0.5390416610001489,\n",
       " 0.4088471288483017,\n",
       " 0.30998415588493927,\n",
       " 0.3211443548353736,\n",
       " 0.32940761033746935,\n",
       " 0.33850173267343964,\n",
       " 0.33089807815901284,\n",
       " 0.324511822068592,\n",
       " 0.3149396850750694,\n",
       " 0.3156099788970632,\n",
       " 0.3204418139795012,\n",
       " 0.31701343239647706,\n",
       " 0.32245021740131913,\n",
       " 0.3235327403972034,\n",
       " 0.3290916687165366,\n",
       " 0.32556180563641435]"
      ]
     },
     "execution_count": 105,
     "metadata": {},
     "output_type": "execute_result"
    }
   ],
   "source": [
    "silhouette_avg"
   ]
  },
  {
   "cell_type": "code",
   "execution_count": 20,
   "id": "e383ca9f",
   "metadata": {},
   "outputs": [
    {
     "data": {
      "text/plain": [
       "array([1, 6, 4, 5, 3, 0, 1, 6, 4, 5, 3, 0, 7, 2])"
      ]
     },
     "execution_count": 20,
     "metadata": {},
     "output_type": "execute_result"
    }
   ],
   "source": [
    "kmeans_fit.labels_"
   ]
  },
  {
   "cell_type": "code",
   "execution_count": 21,
   "id": "1e5215fd",
   "metadata": {},
   "outputs": [
    {
     "data": {
      "text/plain": [
       "array([[ 1,  2],\n",
       "       [ 1,  4],\n",
       "       [ 1,  0],\n",
       "       [10,  2],\n",
       "       [10,  4],\n",
       "       [10,  0],\n",
       "       [ 1,  2],\n",
       "       [ 1,  4],\n",
       "       [ 1,  0],\n",
       "       [10,  2],\n",
       "       [10,  4],\n",
       "       [10,  0],\n",
       "       [ 5,  6],\n",
       "       [ 6,  4]])"
      ]
     },
     "execution_count": 21,
     "metadata": {},
     "output_type": "execute_result"
    }
   ],
   "source": [
    "X"
   ]
  },
  {
   "cell_type": "code",
   "execution_count": 4,
   "id": "f1485a0d",
   "metadata": {},
   "outputs": [
    {
     "name": "stdout",
     "output_type": "stream",
     "text": [
      "預測群的位置： [0 0]\n",
      "輪廓分數 0.6073376920414549\n"
     ]
    }
   ],
   "source": [
    "from sklearn.cluster import KMeans\n",
    "import numpy as np\n",
    "from sklearn.metrics import silhouette_score\n",
    "import matplotlib.pyplot as plt\n",
    "\n",
    "X = np.array([[1, 2], [1, 4], [1, 0], [10, 2], [10, 4], [10, 0], [1, 2],\n",
    "              [1, 4], [1, 0], [10, 2], [10, 4], [10, 0], [5,6], [6,4]])\n",
    "\n",
    "# init 使用方法 default='k-means++' other 'random'\n",
    "# n_clusters 分為幾群\n",
    "# n_init 使用多少不同的 core 點\n",
    "# max_iter 重新尋找中心幾次\n",
    "kmeans = KMeans(n_clusters=2, random_state=0, n_init=10 ,max_iter=300)\n",
    "\n",
    "kmeans_fit = kmeans.fit(X)\n",
    "\n",
    "# 訓練的 X 分為 哪一個群\n",
    "kmeans.labels_\n",
    "\n",
    "# 最終尋找到的中心位置\n",
    "kmeans.cluster_centers_\n",
    "\n",
    "print('預測群的位置：', kmeans.predict([[10, 0], [12, 3]]))\n",
    "\n",
    "# 數值愈接近 1 表示績效愈好，反之愈接近 -1 表示績效愈差。\n",
    "print('輪廓分數',silhouette_score(X, kmeans_fit.labels_))"
   ]
  },
  {
   "cell_type": "code",
   "execution_count": 79,
   "id": "c84961ff",
   "metadata": {},
   "outputs": [
    {
     "data": {
      "text/plain": [
       "array([[9.42857143, 2.28571429],\n",
       "       [1.57142857, 2.57142857]])"
      ]
     },
     "execution_count": 79,
     "metadata": {},
     "output_type": "execute_result"
    }
   ],
   "source": [
    "kmeans.cluster_centers_"
   ]
  },
  {
   "cell_type": "code",
   "execution_count": 80,
   "id": "e48c70b8",
   "metadata": {},
   "outputs": [
    {
     "data": {
      "text/plain": [
       "array([[ 1,  2],\n",
       "       [ 1,  4],\n",
       "       [ 1,  0],\n",
       "       [10,  2],\n",
       "       [10,  4],\n",
       "       [10,  0],\n",
       "       [ 1,  2],\n",
       "       [ 1,  4],\n",
       "       [ 1,  0],\n",
       "       [10,  2],\n",
       "       [10,  4],\n",
       "       [10,  0],\n",
       "       [ 5,  6],\n",
       "       [ 6,  4]])"
      ]
     },
     "execution_count": 80,
     "metadata": {},
     "output_type": "execute_result"
    }
   ],
   "source": [
    "X"
   ]
  },
  {
   "cell_type": "code",
   "execution_count": 74,
   "id": "be2f7de9",
   "metadata": {},
   "outputs": [
    {
     "data": {
      "text/plain": [
       "array([1, 1, 1, 0, 0, 0, 1, 1, 1, 0, 0, 0, 1, 0])"
      ]
     },
     "execution_count": 74,
     "metadata": {},
     "output_type": "execute_result"
    }
   ],
   "source": [
    "kmeans.labels_"
   ]
  },
  {
   "cell_type": "code",
   "execution_count": null,
   "id": "4d5e78e1",
   "metadata": {},
   "outputs": [],
   "source": []
  }
 ],
 "metadata": {
  "kernelspec": {
   "display_name": "skinEnv",
   "language": "python",
   "name": "skinenv"
  },
  "language_info": {
   "codemirror_mode": {
    "name": "ipython",
    "version": 3
   },
   "file_extension": ".py",
   "mimetype": "text/x-python",
   "name": "python",
   "nbconvert_exporter": "python",
   "pygments_lexer": "ipython3",
   "version": "3.6.6"
  }
 },
 "nbformat": 4,
 "nbformat_minor": 5
}
