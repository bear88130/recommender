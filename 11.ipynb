{
 "cells": [
  {
   "cell_type": "code",
   "execution_count": 11,
   "id": "d1e00e12",
   "metadata": {},
   "outputs": [
    {
     "name": "stdout",
     "output_type": "stream",
     "text": [
      "[0]\n"
     ]
    }
   ],
   "source": [
    "import numpy as np\n",
    "from sklearn.pipeline import make_pipeline, Pipeline\n",
    "from sklearn.preprocessing import StandardScaler\n",
    "from sklearn.svm import SVC\n",
    "from sklearn import svm\n",
    "\n",
    "X = np.array([[-1, -1], [-2, -1], [1, 1], [2, 1]])\n",
    "y = np.array([0, 0, 2, 2])\n",
    "\n",
    "# clf = make_pipeline(StandardScaler(), SVC(gamma='auto'))\n",
    "# clf.fit(X, y)\n",
    "\n",
    "clf = Pipeline(steps=[('standardscaler', StandardScaler()),\n",
    "                ('svc', SVC(gamma='auto'))])\n",
    "clf.fit(X, y)\n",
    "\n",
    "print(clf.predict([[-0.8, -1]]))"
   ]
  },
  {
   "cell_type": "code",
   "execution_count": 8,
   "id": "bd10a63e",
   "metadata": {},
   "outputs": [
    {
     "name": "stdout",
     "output_type": "stream",
     "text": [
      "ovo 10\n",
      "ovr 5\n"
     ]
    }
   ],
   "source": [
    "X = [[0], [1], [2], [3], [4]]\n",
    "Y = [0, 1, 2, 3, 4]\n",
    "clf = svm.SVC(decision_function_shape='ovo')\n",
    "clf.fit(X, Y)\n",
    "\n",
    "dec = clf.decision_function([[1]])\n",
    "print('ovo', dec.shape[1]) # 4 classes: 4*3/2 = 6\n",
    "\n",
    "clf.decision_function_shape = \"ovr\"\n",
    "dec = clf.decision_function([[1]])\n",
    "dec.shape[1] # 4 classes\n",
    "print('ovr', dec.shape[1]) # 4 classes: 4*3/2 = 6"
   ]
  },
  {
   "cell_type": "code",
   "execution_count": 36,
   "id": "b1387005",
   "metadata": {},
   "outputs": [
    {
     "name": "stdout",
     "output_type": "stream",
     "text": [
      "[3]\n",
      "[[0. 0. 0. 1.]]\n"
     ]
    }
   ],
   "source": [
    "from sklearn.neighbors import KNeighborsClassifier\n",
    "\n",
    "X = [[0,1,2], [1,2,3], [2,3,4], [3,4,5],[0,1,2], [1,2,3], [2,3,4], [3,4,5],[0,1,2], [1,2,3], [2,3,4], [3,4,5]]\n",
    "y = [0, 1, 2, 3,0, 1, 2, 3,0, 1, 2, 3]\n",
    "\n",
    "neigh = KNeighborsClassifier(n_neighbors=3)\n",
    "neigh.fit(X, y)\n",
    "\n",
    "print(neigh.predict([[3,4,5]]))\n",
    "\n",
    "print(neigh.predict_proba([[3,4,5]]))\n"
   ]
  },
  {
   "cell_type": "code",
   "execution_count": 40,
   "id": "0e7ae7eb",
   "metadata": {},
   "outputs": [
    {
     "name": "stdout",
     "output_type": "stream",
     "text": [
      "[[3 3]]\n",
      "[array([[0., 0., 0., 1.]]), array([[0., 0., 0., 1.]])]\n"
     ]
    }
   ],
   "source": [
    "from sklearn.neighbors import KNeighborsClassifier\n",
    "\n",
    "X = [[0,1,2], [1,2,3], [2,3,4], [3,4,5],[0,1,2], [1,2,3], [2,3,4], [3,4,5],[0,1,2], [1,2,3], [2,3,4], [3,4,5]]\n",
    "y = [[0,0], [1,1], [2,2], [3,3],[0,0], [1,1], [2,2], [3,3], [0,0], [1,1], [2,2], [3,3]]\n",
    "\n",
    "neigh = KNeighborsClassifier(n_neighbors=3)\n",
    "neigh.fit(X, y)\n",
    "\n",
    "print(neigh.predict([[3,4,5]]))\n",
    "\n",
    "print(neigh.predict_proba([[3,4,5]]))"
   ]
  },
  {
   "cell_type": "code",
   "execution_count": null,
   "id": "83dcaa63",
   "metadata": {},
   "outputs": [],
   "source": []
  }
 ],
 "metadata": {
  "kernelspec": {
   "display_name": "skinEnv",
   "language": "python",
   "name": "skinenv"
  },
  "language_info": {
   "codemirror_mode": {
    "name": "ipython",
    "version": 3
   },
   "file_extension": ".py",
   "mimetype": "text/x-python",
   "name": "python",
   "nbconvert_exporter": "python",
   "pygments_lexer": "ipython3",
   "version": "3.6.6"
  }
 },
 "nbformat": 4,
 "nbformat_minor": 5
}
